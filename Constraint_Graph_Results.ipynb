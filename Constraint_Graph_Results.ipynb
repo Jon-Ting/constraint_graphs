{
 "cells": [
  {
   "cell_type": "markdown",
   "metadata": {},
   "source": [
    "# Constraint Graphs\n",
    "\n",
    "This tutorial will reproduce the figures and examples that are in the <i>Finding the optimal Bayesian network given a constraint graph</i> paper in <i>PeerJ</i>."
   ]
  },
  {
   "cell_type": "code",
   "execution_count": 1,
   "metadata": {
    "collapsed": false
   },
   "outputs": [
    {
     "name": "stdout",
     "output_type": "stream",
     "text": [
      "Populating the interactive namespace from numpy and matplotlib\n"
     ]
    }
   ],
   "source": [
    "import matplotlib\n",
    "matplotlib.use('pdf')\n",
    "%pylab inline\n",
    "\n",
    "\n",
    "import seaborn; seaborn.set_style('whitegrid')\n",
    "import pandas, itertools, networkx, time\n",
    "from pomegranate import *"
   ]
  },
  {
   "cell_type": "markdown",
   "metadata": {},
   "source": [
    "## 4.1 Acyclic Constraint Graphs Can Model the Global Stock Market\n",
    "\n",
    "First we need to load up the data from the various stocks and get it into the format of a single matrix instead of separate time series."
   ]
  },
  {
   "cell_type": "code",
   "execution_count": 2,
   "metadata": {
    "collapsed": false
   },
   "outputs": [
    {
     "name": "stdout",
     "output_type": "stream",
     "text": [
      "ASHAI\n",
      "DENTSU\n",
      "DOME\n",
      "FUJITSU\n",
      "GAS\n",
      "KEISEI\n",
      "MITSUI\n",
      "NEG\n",
      "NICHIREI\n",
      "PANASONIC\n",
      "SKY\n",
      "SUMITOMO\n",
      "TAIHEIYO\n",
      "UNITIKA\n"
     ]
    },
    {
     "name": "stderr",
     "output_type": "stream",
     "text": [
      "/home/jmschr/anaconda2/lib/python2.7/site-packages/ipykernel/__main__.py:27: RuntimeWarning: invalid value encountered in greater\n",
      "/home/jmschr/anaconda2/lib/python2.7/site-packages/ipykernel/__main__.py:28: RuntimeWarning: invalid value encountered in greater\n"
     ]
    }
   ],
   "source": [
    "NYSE = [\"AAPL\",\"XOM\",\"MSFT\",\"GOOGL\",\"GOOG\",\"BRK.A\",\"JNJ\",\"WFC\",\"WMT\",\"GE\",\"PG\",\"JPM\",\"CVX\",\"VZ\",\"FB\",\"KO\",\"PFE\",\"T\",\"ORCL\",\"BAC\"]\n",
    "FTSE = [\"VED\",\"BWNG\",\"GFRD\",\"TALK\",\"HSBA\",\"CLLN\",\"BKG\",\"LGEN\",\"PSN\",\"PHNX\",\"SL\",\"ADN\",\"RDSB\",\"BP\",\"CWD\",\"AMFW\",\"DEB\",\"RTN\",\"RIO\",\"COB\"]\n",
    "TSE = [\"ASHAI\",\"DENTSU\",\"DOME\",\"FUJITSU\",\"GAS\",\"KEISEI\",\"MITSUI\",\"NEG\",\"NICHIREI\",\"PANASONIC\",\"SKY\",\"SUMITOMO\",\"TAIHEIYO\",\"UNITIKA\"]\n",
    "\n",
    "market_data = None\n",
    "for stock in NYSE:\n",
    "    stock_data = pandas.read_csv('NYSE/{}.csv'.format(stock.lower()), sep=',', usecols=[1, 4]).values\n",
    "    a = (stock_data[:-1,0] > stock_data[1:,1]).astype('int')[:239]\n",
    "    b = (stock_data[:,1] > stock_data[:,0]).astype('int')[:239]\n",
    "    if market_data is None:\n",
    "        market_data = numpy.array([a, b])\n",
    "    else:\n",
    "        market_data = numpy.vstack([market_data, a, b])\n",
    "    \n",
    "for stock in FTSE:\n",
    "    stock_data = pandas.read_csv('FTSE/{}.csv'.format(stock.lower()), sep=',', usecols=[1, 4]).values\n",
    "    a = (stock_data[:-1,0] > stock_data[1:,1]).astype('int')[:239]\n",
    "    b = (stock_data[:,1] > stock_data[:,0]).astype('int')[:239]\n",
    "    market_data = numpy.vstack([market_data, a, b])\n",
    "    \n",
    "for stock in TSE:\n",
    "    try:\n",
    "        stock_data = pandas.read_csv('TSE/{}.csv'.format(stock), sep=',', usecols=[1, 2]).values\n",
    "    except:\n",
    "        stock_data = pandas.read_csv('TSE/{}.csv'.format(stock), sep=',', usecols=[1, 2], encoding='utf-16').values\n",
    "    a = (stock_data[:-1,0] > stock_data[1:,1]).astype('int')[:239]\n",
    "    b = (stock_data[:,1] > stock_data[:,0]).astype('int')[:239]\n",
    "    market_data = numpy.vstack([market_data, a, b])\n",
    "    \n",
    "market_data = market_data.T"
   ]
  },
  {
   "cell_type": "markdown",
   "metadata": {},
   "source": [
    "Then we need to define the constraint graph in the manner described in Figure 3."
   ]
  },
  {
   "cell_type": "code",
   "execution_count": 3,
   "metadata": {
    "collapsed": false
   },
   "outputs": [],
   "source": [
    "nyse_open = tuple(range(0, 40, 2))\n",
    "nyse_close = tuple(range(1, 40, 2))\n",
    "ftse_open = tuple(range(40, 80, 2))\n",
    "ftse_close = tuple(range(41, 80, 2))\n",
    "tse_open = tuple(range(80, 108, 2))\n",
    "tse_close = tuple(range(81, 108, 2))\n",
    "\n",
    "\n",
    "names = []\n",
    "for name in NYSE + FTSE + TSE:\n",
    "    names.append(name + \"-open\")\n",
    "    names.append(name + \"-close\")\n",
    "\n",
    "cg = networkx.DiGraph()\n",
    "cg.add_edge(tse_open, tse_close)\n",
    "cg.add_edge(tse_open, ftse_open)\n",
    "cg.add_edge(tse_close, ftse_close)\n",
    "cg.add_edge(ftse_open, ftse_close)\n",
    "cg.add_edge(ftse_open, nyse_open)\n",
    "cg.add_edge(ftse_close, nyse_close)\n",
    "cg.add_edge(nyse_open, nyse_close)\n",
    "cg.add_edge(nyse_open, ftse_close)"
   ]
  },
  {
   "cell_type": "markdown",
   "metadata": {},
   "source": [
    "Now let's take a look at how long it takes to learn the structure given the constraint graph, how long it takes if we parallelize it, and how long it takes if we cap the maximum number of parents at the empirically found maximal number of parents."
   ]
  },
  {
   "cell_type": "code",
   "execution_count": 4,
   "metadata": {
    "collapsed": false
   },
   "outputs": [
    {
     "name": "stdout",
     "output_type": "stream",
     "text": [
      "1 loop, best of 3: 1min 40s per loop\n",
      "1 loop, best of 3: 19.6 s per loop\n",
      "1 loop, best of 3: 6.65 s per loop\n"
     ]
    }
   ],
   "source": [
    "%timeit BayesianNetwork.from_samples(market_data, algorithm='exact', constraint_graph=cg, state_names=names)\n",
    "%timeit BayesianNetwork.from_samples(market_data, algorithm='exact', constraint_graph=cg, state_names=names, n_jobs=4)\n",
    "%timeit BayesianNetwork.from_samples(market_data, algorithm='exact', constraint_graph=cg, state_names=names, max_parents=3)"
   ]
  },
  {
   "cell_type": "markdown",
   "metadata": {},
   "source": [
    "Now let's take a look at the effect that parallelizing has on the learning of the structure. There are only five nodes that can learn parents but we should be able to parallelize past that threshold as the optimal parent set for each variable can be identified independently."
   ]
  },
  {
   "cell_type": "code",
   "execution_count": 8,
   "metadata": {
    "collapsed": false
   },
   "outputs": [
    {
     "data": {
      "text/plain": [
       "(1, 8)"
      ]
     },
     "execution_count": 8,
     "metadata": {},
     "output_type": "execute_result"
    },
    {
     "data": {
      "image/png": "[encoded data removed]",
      "text/plain": [
       "<matplotlib.figure.Figure at 0x7f41a94393d0>"
      ]
     },
     "metadata": {},
     "output_type": "display_data"
    }
   ],
   "source": [
    "times = []\n",
    "for i in range(1, 9):\n",
    "    tic = time.time()\n",
    "    BayesianNetwork.from_samples(market_data, algorithm='exact', constraint_graph=cg, state_names=names, n_jobs=i)\n",
    "    times.append(time.time() - tic)\n",
    "\n",
    "plt.title(\"Time to Learn Network\", fontsize=14)\n",
    "plt.plot(range(1, 9), times, c='c')\n",
    "plt.xlabel(\"Number of Cores\", fontsize=14)\n",
    "plt.xticks(fontsize=14)\n",
    "plt.ylabel(\"Time (s)\", fontsize=14)\n",
    "plt.yticks(fontsize=14)\n",
    "plt.xlim(1, 8)"
   ]
  },
  {
   "cell_type": "markdown",
   "metadata": {},
   "source": [
    "## 4.2 Constraint Graphs Allow Learning of Bayesian Network Classifiers\n",
    "\n",
    "This section focused on specifying a Bayesian network classifier using a constraint graph and demonstrating that the learned classifier was a good model."
   ]
  },
  {
   "cell_type": "code",
   "execution_count": 16,
   "metadata": {
    "collapsed": true
   },
   "outputs": [],
   "source": [
    "from sklearn.datasets import load_digits\n",
    "from sklearn.naive_bayes import MultinomialNB\n",
    "from sklearn.ensemble import RandomForestClassifier"
   ]
  },
  {
   "cell_type": "markdown",
   "metadata": {},
   "source": [
    "First we load the data, split it into a training and a testing set, and binarize it based on the mean intensity in the training data set."
   ]
  },
  {
   "cell_type": "code",
   "execution_count": 17,
   "metadata": {
    "collapsed": true
   },
   "outputs": [],
   "source": [
    "X, y = load_digits(10, True)\n",
    "\n",
    "X_train = X[:1500]\n",
    "y_train = y[:1500]\n",
    "\n",
    "X_test = X[1500:]\n",
    "y_test = y[1500:]\n",
    "\n",
    "mu = X_train.mean()\n",
    "X_train = X_train > mu\n",
    "X_test = X_test > mu"
   ]
  },
  {
   "cell_type": "markdown",
   "metadata": {},
   "source": [
    "Now we fit a multinomial naive Bayes model, a random forest classifier, and the constraint graph to the data and return the results."
   ]
  },
  {
   "cell_type": "code",
   "execution_count": 18,
   "metadata": {
    "collapsed": false
   },
   "outputs": [
    {
     "name": "stdout",
     "output_type": "stream",
     "text": [
      "Multinomial naive Bayes (sklearn)\n",
      "Accuracy: 0.7879\n",
      "Time: 0.03569\n",
      "\n",
      "\n",
      "Random forest (sklearn)\n",
      "Accuracy: 0.8923\n",
      "Time: 1.888\n",
      "\n",
      "\n",
      "Bayesian network classifier (pomegranate)\n",
      "Accuracy: 0.8114\n",
      "Time: 1.137\n",
      "\n",
      "\n"
     ]
    }
   ],
   "source": [
    "print \"Multinomial naive Bayes (sklearn)\"\n",
    "tic = time.time()\n",
    "clf = MultinomialNB().fit(X_train, y_train)\n",
    "t = time.time() - tic\n",
    "print \"Accuracy: {:4.4}\".format(clf.score(X_test, y_test))\n",
    "print \"Time: {:4.4}\".format(t)\n",
    "print \"\\n\"\n",
    "\n",
    "print \"Random forest (sklearn)\"\n",
    "tic = time.time()\n",
    "clf = RandomForestClassifier(100).fit(X_train, y_train)\n",
    "t = time.time() - tic\n",
    "print \"Accuracy: {:4.4}\".format(clf.score(X_test, y_test))\n",
    "print \"Time: {:4.4}\".format(t)\n",
    "print \"\\n\"\n",
    "\n",
    "cg = networkx.DiGraph()\n",
    "cg.add_edge((64,), tuple(range(64)))\n",
    "\n",
    "X_train = numpy.hstack((X_train, y_train.reshape(1500, 1)))\n",
    "X_test = numpy.hstack((X_test, y_test.reshape(297, 1)))\n",
    "\n",
    "tic = time.time()\n",
    "model = BayesianNetwork.from_samples(X_train, algorithm='exact', constraint_graph=cg)\n",
    "t = time.time() - tic\n",
    "\n",
    "y_pred = numpy.zeros(297)\n",
    "for i in range(297):\n",
    "    y_pred[i] = model.predict_proba({model.states[j].name: X_test[i, j] for j in range(64)})[64].mle()\n",
    "\n",
    "print \"Bayesian network classifier (pomegranate)\"\n",
    "print \"Accuracy: {:4.4}\".format((y_pred == y_test).mean())\n",
    "print \"Time: {:4.4}\".format(t)\n",
    "print \"\\n\""
   ]
  }
 ],
 "metadata": {
  "kernelspec": {
   "display_name": "Python 2",
   "language": "python",
   "name": "python2"
  },
  "language_info": {
   "codemirror_mode": {
    "name": "ipython",
    "version": 2
   },
   "file_extension": ".py",
   "mimetype": "text/x-python",
   "name": "python",
   "nbconvert_exporter": "python",
   "pygments_lexer": "ipython2",
   "version": "2.7.13"
  }
 },
 "nbformat": 4,
 "nbformat_minor": 0
}
