{
 "cells": [
  {
   "cell_type": "markdown",
   "metadata": {},
   "source": [
    "# Constraint Graphs\n",
    "\n",
    "This tutorial will reproduce the figures and examples that are in the <i>Finding the optimal Bayesian network given a constraint graph</i> paper in <i>PeerJ</i>."
   ]
  },
  {
   "cell_type": "code",
   "execution_count": 1,
   "metadata": {
    "collapsed": false,
    "jupyter": {
     "outputs_hidden": false
    }
   },
   "outputs": [
    {
     "name": "stdout",
     "output_type": "stream",
     "text": [
      "%pylab is deprecated, use %matplotlib inline and import the required libraries.\n",
      "Populating the interactive namespace from numpy and matplotlib\n"
     ]
    }
   ],
   "source": [
    "import matplotlib\n",
    "matplotlib.use('pdf')\n",
    "%pylab inline\n",
    "\n",
    "\n",
    "import seaborn; seaborn.set_style('whitegrid')\n",
    "import pandas, itertools, networkx, time\n",
    "from pomegranate import *"
   ]
  },
  {
   "cell_type": "markdown",
   "metadata": {},
   "source": [
    "## 4.1 Acyclic Constraint Graphs Can Model the Global Stock Market\n",
    "\n",
    "First we need to load up the data from the various stocks and get it into the format of a single matrix instead of separate time series."
   ]
  },
  {
   "cell_type": "code",
   "execution_count": 5,
   "metadata": {
    "collapsed": false,
    "jupyter": {
     "outputs_hidden": false
    }
   },
   "outputs": [],
   "source": [
    "NYSE = [\"AAPL\",\"XOM\",\"MSFT\",\"GOOGL\",\"GOOG\",\"BRK.A\",\"JNJ\",\"WFC\",\"WMT\",\"GE\",\"PG\",\"JPM\",\"CVX\",\"VZ\",\"FB\",\"KO\",\"PFE\",\"T\",\"ORCL\",\"BAC\"]\n",
    "FTSE = [\"VED\",\"BWNG\",\"GFRD\",\"TALK\",\"HSBA\",\"CLLN\",\"LGEN\",\"PSN\",\"PHNX\",\"SL\",\"ADN\",\"RDSB\",\"BP\",\"CWD\",\"AMFW\",\"DEB\",\"RTN\",\"RIO\",\"COB\"]  #\"BKG\"\n",
    "TSE = [\"ASHAI\",\"DENTSU\",\"DOME\",\"FUJITSU\",\"GAS\",\"KEISEI\",\"MITSUI\",\"NEG\",\"NICHIREI\",\"PANASONIC\",\"SKY\",\"SUMITOMO\",\"TAIHEIYO\",\"UNITIKA\"]\n",
    "\n",
    "market_data = None\n",
    "for stock in NYSE:\n",
    "    stock_data = pandas.read_csv('NYSE/{}.csv'.format(stock.lower()), sep=',', usecols=[1, 4]).values\n",
    "    a = (stock_data[:-1,0] > stock_data[1:,1]).astype('int')[:239]\n",
    "    b = (stock_data[:,1] > stock_data[:,0]).astype('int')[:239]\n",
    "    if market_data is None:\n",
    "        market_data = numpy.array([a, b])\n",
    "    else:\n",
    "        market_data = numpy.vstack([market_data, a, b])\n",
    "    \n",
    "for stock in FTSE:\n",
    "    stock_data = pandas.read_csv('FTSE/{}.csv'.format(stock.lower()), sep=',', usecols=[1, 4]).values\n",
    "    a = (stock_data[:-1,0] > stock_data[1:,1]).astype('int')[:239]\n",
    "    b = (stock_data[:,1] > stock_data[:,0]).astype('int')[:239]\n",
    "    market_data = numpy.vstack([market_data, a, b])\n",
    "    \n",
    "for stock in TSE:\n",
    "    try:\n",
    "        stock_data = pandas.read_csv('TSE/{}.csv'.format(stock), sep=',', usecols=[1, 2]).values\n",
    "    except:\n",
    "        stock_data = pandas.read_csv('TSE/{}.csv'.format(stock), sep=',', usecols=[1, 2], encoding='utf-16').values\n",
    "    a = (stock_data[:-1,0] > stock_data[1:,1]).astype('int')[:239]\n",
    "    b = (stock_data[:,1] > stock_data[:,0]).astype('int')[:239]\n",
    "    market_data = numpy.vstack([market_data, a, b])\n",
    "    \n",
    "market_data = market_data.T"
   ]
  },
  {
   "cell_type": "markdown",
   "metadata": {},
   "source": [
    "Then we need to define the constraint graph in the manner described in Figure 3."
   ]
  },
  {
   "cell_type": "code",
   "execution_count": 8,
   "metadata": {
    "collapsed": false,
    "jupyter": {
     "outputs_hidden": false
    }
   },
   "outputs": [],
   "source": [
    "nyse_open = tuple(range(0, 40, 2))\n",
    "nyse_close = tuple(range(1, 40, 2))\n",
    "ftse_open = tuple(range(40, 80, 2))\n",
    "ftse_close = tuple(range(41, 80, 2))\n",
    "tse_open = tuple(range(80, 108, 2))\n",
    "tse_close = tuple(range(81, 108, 2))\n",
    "\n",
    "\n",
    "names = []\n",
    "for name in NYSE + FTSE + TSE:\n",
    "    names.append(name + \"-open\")\n",
    "    names.append(name + \"-close\")\n",
    "\n",
    "cg = networkx.DiGraph()\n",
    "cg.add_edge(tse_open, tse_close)\n",
    "cg.add_edge(tse_open, ftse_open)\n",
    "cg.add_edge(tse_close, ftse_close)\n",
    "cg.add_edge(ftse_open, ftse_close)\n",
    "cg.add_edge(ftse_open, nyse_open)\n",
    "cg.add_edge(ftse_close, nyse_close)\n",
    "cg.add_edge(nyse_open, nyse_close)\n",
    "cg.add_edge(nyse_open, ftse_close)"
   ]
  },
  {
   "cell_type": "markdown",
   "metadata": {},
   "source": [
    "Now let's take a look at how long it takes to learn the structure given the constraint graph, how long it takes if we parallelize it, and how long it takes if we cap the maximum number of parents at the empirically found maximal number of parents."
   ]
  },
  {
   "cell_type": "code",
   "execution_count": null,
   "metadata": {
    "collapsed": false,
    "jupyter": {
     "outputs_hidden": false
    }
   },
   "outputs": [],
   "source": [
    "%timeit BayesianNetwork.from_samples(market_data, algorithm='exact', constraint_graph=cg, state_names=names)\n",
    "%timeit BayesianNetwork.from_samples(market_data, algorithm='exact', constraint_graph=cg, state_names=names, n_jobs=4)\n",
    "%timeit BayesianNetwork.from_samples(market_data, algorithm='exact', constraint_graph=cg, state_names=names, max_parents=3)"
   ]
  },
  {
   "cell_type": "markdown",
   "metadata": {},
   "source": [
    "Now let's take a look at the effect that parallelizing has on the learning of the structure. There are only five nodes that can learn parents but we should be able to parallelize past that threshold as the optimal parent set for each variable can be identified independently."
   ]
  },
  {
   "cell_type": "code",
   "execution_count": null,
   "metadata": {
    "collapsed": false,
    "jupyter": {
     "outputs_hidden": false
    }
   },
   "outputs": [],
   "source": [
    "times = []\n",
    "for i in range(1, 9):\n",
    "    tic = time.time()\n",
    "    BayesianNetwork.from_samples(market_data, algorithm='exact', constraint_graph=cg, state_names=names, n_jobs=i)\n",
    "    times.append(time.time() - tic)\n",
    "\n",
    "plt.title(\"Time to Learn Network\", fontsize=14)\n",
    "plt.plot(range(1, 9), times, c='c')\n",
    "plt.xlabel(\"Number of Cores\", fontsize=14)\n",
    "plt.xticks(fontsize=14)\n",
    "plt.ylabel(\"Time (s)\", fontsize=14)\n",
    "plt.yticks(fontsize=14)\n",
    "plt.xlim(1, 8)"
   ]
  },
  {
   "cell_type": "markdown",
   "metadata": {},
   "source": [
    "## 4.2 Constraint Graphs Allow Learning of Bayesian Network Classifiers\n",
    "\n",
    "This section focused on specifying a Bayesian network classifier using a constraint graph and demonstrating that the learned classifier was a good model."
   ]
  },
  {
   "cell_type": "code",
   "execution_count": 11,
   "metadata": {
    "tags": []
   },
   "outputs": [],
   "source": [
    "from sklearn.datasets import load_digits\n",
    "from sklearn.naive_bayes import MultinomialNB\n",
    "from sklearn.ensemble import RandomForestClassifier"
   ]
  },
  {
   "cell_type": "markdown",
   "metadata": {},
   "source": [
    "First we load the data, split it into a training and a testing set, and binarize it based on the mean intensity in the training data set."
   ]
  },
  {
   "cell_type": "code",
   "execution_count": 12,
   "metadata": {
    "tags": []
   },
   "outputs": [
    {
     "ename": "TypeError",
     "evalue": "load_digits() takes 0 positional arguments but 2 were given",
     "output_type": "error",
     "traceback": [
      "\u001b[0;31m---------------------------------------------------------------------------\u001b[0m",
      "\u001b[0;31mTypeError\u001b[0m                                 Traceback (most recent call last)",
      "Input \u001b[0;32mIn [12]\u001b[0m, in \u001b[0;36m<cell line: 1>\u001b[0;34m()\u001b[0m\n\u001b[0;32m----> 1\u001b[0m X, y \u001b[38;5;241m=\u001b[39m \u001b[43mload_digits\u001b[49m\u001b[43m(\u001b[49m\u001b[38;5;241;43m10\u001b[39;49m\u001b[43m,\u001b[49m\u001b[43m \u001b[49m\u001b[38;5;28;43;01mTrue\u001b[39;49;00m\u001b[43m)\u001b[49m\n\u001b[1;32m      3\u001b[0m X_train \u001b[38;5;241m=\u001b[39m X[:\u001b[38;5;241m1500\u001b[39m]\n\u001b[1;32m      4\u001b[0m y_train \u001b[38;5;241m=\u001b[39m y[:\u001b[38;5;241m1500\u001b[39m]\n",
      "\u001b[0;31mTypeError\u001b[0m: load_digits() takes 0 positional arguments but 2 were given"
     ]
    }
   ],
   "source": [
    "X, y = load_digits(10, True)\n",
    "\n",
    "X_train = X[:1500]\n",
    "y_train = y[:1500]\n",
    "\n",
    "X_test = X[1500:]\n",
    "y_test = y[1500:]\n",
    "\n",
    "mu = X_train.mean()\n",
    "X_train = X_train > mu\n",
    "X_test = X_test > mu"
   ]
  },
  {
   "cell_type": "markdown",
   "metadata": {},
   "source": [
    "Now we fit a multinomial naive Bayes model, a random forest classifier, and the constraint graph to the data and return the results."
   ]
  },
  {
   "cell_type": "code",
   "execution_count": 13,
   "metadata": {
    "collapsed": false,
    "jupyter": {
     "outputs_hidden": false
    }
   },
   "outputs": [
    {
     "ename": "SyntaxError",
     "evalue": "invalid syntax (2075970056.py, line 1)",
     "output_type": "error",
     "traceback": [
      "\u001b[0;36m  Input \u001b[0;32mIn [13]\u001b[0;36m\u001b[0m\n\u001b[0;31m    print \"Multinomial naive Bayes (sklearn)\"\u001b[0m\n\u001b[0m          ^\u001b[0m\n\u001b[0;31mSyntaxError\u001b[0m\u001b[0;31m:\u001b[0m invalid syntax\n"
     ]
    }
   ],
   "source": [
    "print \"Multinomial naive Bayes (sklearn)\"\n",
    "tic = time.time()\n",
    "clf = MultinomialNB().fit(X_train, y_train)\n",
    "t = time.time() - tic\n",
    "print \"Accuracy: {:4.4}\".format(clf.score(X_test, y_test))\n",
    "print \"Time: {:4.4}\".format(t)\n",
    "print \"\\n\"\n",
    "\n",
    "print \"Random forest (sklearn)\"\n",
    "tic = time.time()\n",
    "clf = RandomForestClassifier(100).fit(X_train, y_train)\n",
    "t = time.time() - tic\n",
    "print \"Accuracy: {:4.4}\".format(clf.score(X_test, y_test))\n",
    "print \"Time: {:4.4}\".format(t)\n",
    "print \"\\n\"\n",
    "\n",
    "cg = networkx.DiGraph()\n",
    "cg.add_edge((64,), tuple(range(64)))\n",
    "\n",
    "X_train = numpy.hstack((X_train, y_train.reshape(1500, 1)))\n",
    "X_test = numpy.hstack((X_test, y_test.reshape(297, 1)))\n",
    "\n",
    "tic = time.time()\n",
    "model = BayesianNetwork.from_samples(X_train, algorithm='exact', constraint_graph=cg)\n",
    "t = time.time() - tic\n",
    "\n",
    "y_pred = numpy.zeros(297)\n",
    "for i in range(297):\n",
    "    y_pred[i] = model.predict_proba({model.states[j].name: X_test[i, j] for j in range(64)})[64].mle()\n",
    "\n",
    "print \"Bayesian network classifier (pomegranate)\"\n",
    "print \"Accuracy: {:4.4}\".format((y_pred == y_test).mean())\n",
    "print \"Time: {:4.4}\".format(t)\n",
    "print \"\\n\""
   ]
  },
  {
   "cell_type": "code",
   "execution_count": null,
   "metadata": {},
   "outputs": [],
   "source": []
  }
 ],
 "metadata": {
  "kernelspec": {
   "display_name": "Python 3 (ipykernel)",
   "language": "python",
   "name": "python3"
  },
  "language_info": {
   "codemirror_mode": {
    "name": "ipython",
    "version": 3
   },
   "file_extension": ".py",
   "mimetype": "text/x-python",
   "name": "python",
   "nbconvert_exporter": "python",
   "pygments_lexer": "ipython3",
   "version": "3.9.9"
  }
 },
 "nbformat": 4,
 "nbformat_minor": 4
}
